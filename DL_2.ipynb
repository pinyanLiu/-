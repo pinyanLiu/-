{
  "nbformat": 4,
  "nbformat_minor": 0,
  "metadata": {
    "colab": {
      "name": "DL_2.ipynb",
      "provenance": [],
      "authorship_tag": "ABX9TyP/6kcJbbl/0BQXmOZJetK3",
      "include_colab_link": true
    },
    "kernelspec": {
      "name": "python3",
      "display_name": "Python 3"
    },
    "language_info": {
      "name": "python"
    }
  },
  "cells": [
    {
      "cell_type": "markdown",
      "metadata": {
        "id": "view-in-github",
        "colab_type": "text"
      },
      "source": [
        "<a href=\"https://colab.research.google.com/github/pinyanLiu/-/blob/master/DL_2.ipynb\" target=\"_parent\"><img src=\"https://colab.research.google.com/assets/colab-badge.svg\" alt=\"Open In Colab\"/></a>"
      ]
    },
    {
      "cell_type": "code",
      "metadata": {
        "id": "ruxZmJg4XFZW"
      },
      "source": [
        "from tensorflow.keras.datasets import mnist\n",
        "from matplotlib import pyplot as plt\n",
        "import random as rd"
      ],
      "execution_count": 11,
      "outputs": []
    },
    {
      "cell_type": "code",
      "metadata": {
        "id": "ekQ--t3SXQSL"
      },
      "source": [
        "(X_train,Y_train),(X_test,Y_test) = mnist.load_data()\n",
        "plt.figure(num='handwrite_num',figsize=(28,28))"
      ],
      "execution_count": 12,
      "outputs": []
    },
    {
      "cell_type": "code",
      "metadata": {
        "colab": {
          "base_uri": "https://localhost:8080/",
          "height": 264
        },
        "id": "sLMqbja_Xdaj",
        "outputId": "9edd4ec0-5059-4f20-b85c-deb5ef636e3b"
      },
      "source": [
        "for i in range(1,5):\n",
        "  x = (rd.randint(0,60000))\n",
        "  plt.subplot(2,2,i)\n",
        "  plt.title('X_train '+str(x))\n",
        "  plt.imshow(X_train[x],cmap = 'Greys')\n",
        "  plt.axis('off')\n",
        "plt.show()"
      ],
      "execution_count": 44,
      "outputs": [
        {
          "output_type": "display_data",
          "data": {
            "image/png": "[encoded data removed]",
            "text/plain": [
              "<Figure size 432x288 with 4 Axes>"
            ]
          },
          "metadata": {
            "needs_background": "light"
          }
        }
      ]
    },
    {
      "cell_type": "code",
      "metadata": {
        "id": "Cb3gp_qmgmr0"
      },
      "source": [
        ""
      ],
      "execution_count": null,
      "outputs": []
    }
  ]
}